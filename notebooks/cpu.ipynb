{
 "cells": [
  {
   "cell_type": "code",
   "execution_count": null,
   "id": "0ccb3a21-64c5-4ee2-a4fc-59c23afb0944",
   "metadata": {},
   "outputs": [],
   "source": [
    "def f(x):\n",
    "    while True:\n",
    "        x*x\n",
    "\n",
    "f(1)\n",
    "\n",
    "# from multiprocessing import Pool\n",
    "# from multiprocessing import cpu_count\n",
    "\n",
    "# processes = cpu_count()\n",
    "# print('utilizing %d cores\\n' % processes)\n",
    "# pool = Pool(processes)\n",
    "# pool.map(f, range(processes))"
   ]
  },
  {
   "cell_type": "code",
   "execution_count": null,
   "id": "93f17f29-c1b1-4980-9be4-066e87bdcefa",
   "metadata": {},
   "outputs": [],
   "source": []
  }
 ],
 "metadata": {
  "kernelspec": {
   "display_name": "Python 3 (ipykernel)",
   "language": "python",
   "name": "python3"
  },
  "language_info": {
   "codemirror_mode": {
    "name": "ipython",
    "version": 3
   },
   "file_extension": ".py",
   "mimetype": "text/x-python",
   "name": "python",
   "nbconvert_exporter": "python",
   "pygments_lexer": "ipython3",
   "version": "3.10.2"
  }
 },
 "nbformat": 4,
 "nbformat_minor": 5
}
