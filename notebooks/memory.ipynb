{
 "cells": [
  {
   "cell_type": "code",
   "execution_count": 3,
   "id": "0ccb3a21-64c5-4ee2-a4fc-59c23afb0944",
   "metadata": {},
   "outputs": [],
   "source": [
    "# b = bytearray(999999999)\n",
    "import time\n",
    "GB = 1024 * 1024 * 1024\n",
    "mem_to_eat = 10\n",
    "eat = \"a\" * GB * mem_to_eat\n",
    "# while True:\n",
    "#    time.sleep(1)"
   ]
  },
  {
   "cell_type": "code",
   "execution_count": null,
   "id": "ab70513c-86c3-45e2-b43b-955f4b5d4673",
   "metadata": {},
   "outputs": [],
   "source": []
  }
 ],
 "metadata": {
  "kernelspec": {
   "display_name": "Python 3 (ipykernel)",
   "language": "python",
   "name": "python3"
  },
  "language_info": {
   "codemirror_mode": {
    "name": "ipython",
    "version": 3
   },
   "file_extension": ".py",
   "mimetype": "text/x-python",
   "name": "python",
   "nbconvert_exporter": "python",
   "pygments_lexer": "ipython3",
   "version": "3.10.2"
  }
 },
 "nbformat": 4,
 "nbformat_minor": 5
}
